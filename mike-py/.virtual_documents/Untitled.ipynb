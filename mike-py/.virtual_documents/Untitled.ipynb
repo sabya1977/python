# Linear Algebra
# Vector and Scalar multiplication




