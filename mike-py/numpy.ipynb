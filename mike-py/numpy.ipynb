{
 "cells": [
  {
   "cell_type": "code",
   "execution_count": 4,
   "id": "edec6d9e-886f-4a0d-8c75-a0ac7e2a6418",
   "metadata": {
    "editable": true,
    "slideshow": {
     "slide_type": ""
    },
    "tags": []
   },
   "outputs": [
    {
     "name": "stdout",
     "output_type": "stream",
     "text": [
      "[ 1.          7.33333333 13.66666667 20.        ]\n"
     ]
    },
    {
     "data": {
      "text/plain": [
       "array([ 3.        ,  9.33333333, 15.66666667, 22.        ])"
      ]
     },
     "execution_count": 4,
     "metadata": {},
     "output_type": "execute_result"
    }
   ],
   "source": [
    "import numpy as np\n",
    "np.linspace(1,20,4)\n",
    "funout = np.linspace(1,20,4)\n",
    "print(funout)\n",
    "funout+2"
   ]
  },
  {
   "cell_type": "code",
   "execution_count": 12,
   "id": "e33ec47e-066e-434a-b61f-92d47617712b",
   "metadata": {},
   "outputs": [
    {
     "name": "stdout",
     "output_type": "stream",
     "text": [
      "[  4.  11.  18.  25.  31.  38.  45.  52.  59.  66.  73.  79.  86.  93.\n",
      " 100.]\n"
     ]
    }
   ],
   "source": [
    "import numpy as np\n",
    "np.linspace(4,100,15)\n",
    "funout = np.round(np.linspace(4,100,15))\n",
    "print(funout)"
   ]
  },
  {
   "cell_type": "code",
   "execution_count": null,
   "id": "02686263-c1f6-474e-805e-9ac85af107b3",
   "metadata": {},
   "outputs": [],
   "source": []
  }
 ],
 "metadata": {
  "kernelspec": {
   "display_name": "Python 3 (ipykernel)",
   "language": "python",
   "name": "python3"
  },
  "language_info": {
   "codemirror_mode": {
    "name": "ipython",
    "version": 3
   },
   "file_extension": ".py",
   "mimetype": "text/x-python",
   "name": "python",
   "nbconvert_exporter": "python",
   "pygments_lexer": "ipython3",
   "version": "3.12.4"
  }
 },
 "nbformat": 4,
 "nbformat_minor": 5
}
