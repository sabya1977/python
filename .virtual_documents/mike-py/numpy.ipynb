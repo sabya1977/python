import numpy as np
np.linspace(1,20,4)
funout = np.linspace(1,20,4)
print(funout)
funout+2


import numpy as np
np.linspace(4,100,15)
funout = np.round(np.linspace(4,100,15))
print(funout)



