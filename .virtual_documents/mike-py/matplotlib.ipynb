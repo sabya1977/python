# matplotlit module
# import modules
import matplotlib.pyplot as plt
import numpy as np


# x axis = 1, y axis =3. The position of a point.
plt.plot(1,3)


# "s" represents square
# the point is visible now at x = 1 and y =2 coordinate position. The shape of the point is square.
plt.plot(1,3, "s")


# "s" represents square
# the point is visible now at x = 1 and y =2 coordinate position. The shape of the point is square, color red.
plt.plot(1,3, "rs")
plt.show()


# plotting more than one points
x = np.arange(-9,10)
print(x)
y = x**2
print(y)
plt.plot(x,y,"b")
# plotting another equation
plt.plot(x,y/2,"g")


# plot a line
# the lines goes from a point (x=0, y=-1) to another point (x=3, y=1)
# two arguements in plot function has a range of x and a range of y
plt.plot([0,3], [-1,1], label='first line')
# plotting another line in the same graph
plt.plot([2,4], [-3,3],label='second line')
# adding legend
plt.legend()         
# plt.show()


# defining a matrix
# the below matrix has four rows and five columns
# value starts from 0 to 10
M = np.random.randint(0,10,size=(4,5))
print(M)
# representing matrix in color: each box points an element in the matrix and color the value of the element
plt.imshow(M)
plt.show()






