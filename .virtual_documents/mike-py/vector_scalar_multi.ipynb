# Linear Algebra
# Vector and Scalar multiplication
import matplotlib.pyplot as plt
import numpy as np
# the below code defines an numpy array
# 1 and 2 are the end points of two points of the vector.
# x = [0, 1] and y = [0,2] are the two points of the vector
vec2d = np.array([1,2])
s1=2
s2=.5
s3=-1
# vec2d[0] is 1 and vec2d[1] is 2
# bs- means blue, solid line
plt.plot([0,vec2d[0]],[0,vec2d[1]], 'bs-', label='v')
plt.plot([0,s1*vec2d[0]],[0,s1*vec2d[1]], 'ro-', label='v*s1')
plt.plot([0,s2*vec2d[0]],[0,s2*vec2d[1]], 'kp-', label='v*s2')
plt.plot([0,s3*vec2d[0]],[0,s3*vec2d[1]], 'g*-', label='v*s3')
# plot is sqaure
plt.axis('square')
# x limit is -4 to 4
plt.xlim([-4,4])
# y limit is -4 to 4
plt.ylim([-4,4])
plt.grid()
plt.legend()
plt.show()


#assignment
# create two vector (2D)
# plot each vector
# plot v1+v2, v1-v2 and v1*4 + v2/2
import matplotlib.pyplot as plt
import numpy as np
vec2d1 = np.array([2,0])
vec2d2 = np.array([2,2])
# plot is sqaure
plt.axis('square')
# x limit is -4 to 4
plt.xlim([-5,5])
# y limit is -4 to 4
plt.ylim([-5,5])
plt.grid()
plt.plot([0,vec2d1[0]],[0,vec2d1[1]], 'bs-', label='1st Vector')
plt.plot([0,vec2d2[0]],[0,vec2d2[1]], 'ro-', label='2nd Vector')
# plt.plot([0,vec2d1[0]+vec2d2[0]],[0,vec2d1[1]+vec2d2[1]], 'kp-', label='v1+v2')
# plt.plot([0,vec2d1[0]-vec2d2[0]],[0,vec2d1[1]-vec2d2[1]], 'gs-', label='v1-v2')
# plt.plot([0,vec2d1[0]-vec2d2[0]],[0,vec2d1[1]-vec2d2[1]], 'gs-', label='v1-v2')
plt.legend()
plt.show()


import numpy as np
import matplotlib.pyplot as plt
v = np.array ([2,-1])
plt.plot ( [ 0 , v [ 0 ] ] , [ 0 , v [ 1 ] ], 'o-')
plt.grid()
plt.axis ([-3,3,-3,3])



