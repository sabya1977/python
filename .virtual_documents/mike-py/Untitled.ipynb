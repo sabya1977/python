# matplotlit module
# import modules
import matplotb.pyplot as plt
import numpy as np




